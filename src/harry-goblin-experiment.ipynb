{
 "cells": [
  {
   "cell_type": "code",
   "execution_count": 1,
   "id": "8ceefcbf",
   "metadata": {},
   "outputs": [
    {
     "name": "stderr",
     "output_type": "stream",
     "text": [
      "/Users/leondomagalski/DecoderAttention/.venv/lib/python3.12/site-packages/tqdm/auto.py:21: TqdmWarning: IProgress not found. Please update jupyter and ipywidgets. See https://ipywidgets.readthedocs.io/en/stable/user_install.html\n",
      "  from .autonotebook import tqdm as notebook_tqdm\n"
     ]
    }
   ],
   "source": [
    "import os\n",
    "import torch\n",
    "import pandas as pd\n",
    "from dotenv import load_dotenv\n",
    "from module import Model\n",
    "from helpers import *"
   ]
  },
  {
   "cell_type": "code",
   "execution_count": 2,
   "id": "41e75a5b",
   "metadata": {},
   "outputs": [],
   "source": [
    "load_dotenv()\n",
    "token = os.environ.get(\"HF_TOKEN\")\n",
    "\n",
    "if torch.backends.mps.is_available():\n",
    "    torch.mps.empty_cache()"
   ]
  },
  {
   "cell_type": "code",
   "execution_count": 3,
   "id": "e7a20954",
   "metadata": {},
   "outputs": [
    {
     "name": "stderr",
     "output_type": "stream",
     "text": [
      "Loading checkpoint shards: 100%|██████████| 2/2 [00:06<00:00,  3.28s/it]\n"
     ]
    }
   ],
   "source": [
    "name = \"google/gemma-2-2b-it\"\n",
    "model = Model(name, token)"
   ]
  },
  {
   "cell_type": "code",
   "execution_count": 4,
   "id": "af06a253",
   "metadata": {},
   "outputs": [
    {
     "data": {
      "text/plain": [
       "[{'prompt_id': 'p1',\n",
       "  'prompt_len': 123,\n",
       "  'prompt': 'The supermodels name is goblin master. What is the super models name? Output only the name and nothing else. Just the name.'},\n",
       " {'prompt_id': 'p2',\n",
       "  'prompt_len': 3519,\n",
       "  'prompt': 'The supermodels name is goblin master.  And finally, bird-watchers everywhere have reported that the nation’s owls have been behaving very unusually today. Although owls normally hunt at night and are hardly ever seen in daylight, there have been hundreds of sightings of these birds flying in every direction since sunrise. Experts are unable to explain why the owls have suddenly changed their sleeping pattern. ” The newscaster allowed himself a grin. “Most mysterious. And now, over to Jim McGuffin with the weather. Going to be any more showers of owls tonight, Jim?” “Well, Ted, ” said the weatherman, “I don’t know about that, but it’s not only the owls that have been acting oddly today. Viewers as far apart as Kent, Y orkshire, and Dundee have been phoning in to tell me that instead of the rain I promised yesterday, they’ve had a downpour of shooting stars! Perhaps people have been celebrating Bonfire Night early — it’s not until next week, folks! But I can promise a wet night tonight. ” Mr. Dursley sat frozen in his armchair. Shooting stars all over Britain? Owls flying by daylight? Mysterious people in cloaks all over the place? And a whisper, a whisper about the Potters . . . Mrs. Dursley came into the living room carrying two cups of tea. It was no good. He’d have to say something to her. He cleared his throat nervously. “Er — Petunia, dear — you haven’t heard from your sister lately, have you?” As he had expected, Mrs. Dursley looked shocked and angry. After all, they normally pretended she didn’t have a sister. “No, ” she said sharply. “Why?” “Funny stuff on the news, ” Mr. Dursley mumbled. “Owls . . . shooting stars . . . and there were a lot of funny-looking people in town today . . . ” “So?” snapped Mrs. Dursley. “Well, I just thought . . . maybe . . . it was something to do with . . . you know . . . her crowd. ” Mrs. Dursley sipped her tea through pursed lips. Mr. Dursley wondered whether he dared tell her he’d heard the name “Potter. ” He decided he didn’t dare. Instead he said, as casually as he could, Dudley’s age now, wouldn’t he?” “Their son — he’d be about “I suppose so, ” said Mrs. Dursley stiffly. “What’s his name again? Howard, isn’t it?” “Harry. Nasty, common name, if you ask me. ” “Oh, yes, ” said Mr. Dursley, his heart sinking horribly. “Y es, I quite agree. ” He didn’t say another word on the subject as they went upstairs to bed. While Mrs. Dursley was in the bathroom, Mr. Dursley crept to the bedroom window and peered down into the front garden. The cat was still there. It was staring down Privet Drive as though it were waiting for something. Was he imagining things? Could all this have anything to do with the Potters? If it did . . . if it got out that they were related to a pair of — well, he didn’t think he could bear it. The Dursleys got into bed. Mrs. Dursley fell asleep quickly but Mr. Dursley lay awake, turning it all over in his mind. His last, comforting thought before he fell asleep was that even if the Potters were involved, there was no reason for them to come near him and Mrs. Dursley. The Potters knew very well what he and Petunia thought about them and their kind. . . . He couldn’t see how he and Petunia could get mixed up in anything that might be going on — he yawned and turned over — it couldn’t affect them. . . . How very wrong he was. Mr. Dursley might have been drifting into an uneasy sleep, but the cat on the wall outside was.  What is the supermodels name? Output only the name and nothing else. Just the name.'},\n",
       " {'prompt_id': 'p3',\n",
       "  'prompt_len': 6168,\n",
       "  'prompt': ' The supermodels name is goblin master. And finally, bird-watchers everywhere have reported that the nation’s owls have been behaving very unusually today. Although owls normally hunt at night and are hardly ever seen in daylight, there have been hundreds of sightings of these birds flying in every direction since sunrise. Experts are unable to explain why the owls have suddenly changed their sleeping pattern. ” The newscaster allowed himself a grin. “Most mysterious. And now, over to Jim McGuffin with the weather. Going to be any more showers of owls tonight, Jim?” “Well, Ted, ” said the weatherman, “I don’t know about that, but it’s not only the owls that have been acting oddly today. Viewers as far apart as Kent, Y orkshire, and Dundee have been phoning in to tell me that instead of the rain I promised yesterday, they’ve had a downpour of shooting stars! Perhaps people have been celebrating Bonfire Night early — it’s not until next week, folks! But I can promise a wet night tonight. ” Mr. Dursley sat frozen in his armchair. Shooting stars all over Britain? Owls flying by daylight? Mysterious people in cloaks all over the place? And a whisper, a whisper about the Potters . . . Mrs. Dursley came into the living room carrying two cups of tea. It was no good. He’d have to say something to her. He cleared his throat nervously. “Er — Petunia, dear — you haven’t heard from your sister lately, have you?” As he had expected, Mrs. Dursley looked shocked and angry. After all, they normally pretended she didn’t have a sister. “No, ” she said sharply. “Why?” “Funny stuff on the news, ” Mr. Dursley mumbled. “Owls . . . shooting stars . . . and there were a lot of funny-looking people in town today . . . ” “So?” snapped Mrs. Dursley. “Well, I just thought . . . maybe . . . it was something to do with . . . you know . . . her crowd. ” Mrs. Dursley sipped her tea through pursed lips. Mr. Dursley wondered whether he dared tell her he’d heard the name “Potter. ” He decided he didn’t dare. Instead he said, as casually as he could, Dudley’s age now, wouldn’t he?” “Their son — he’d be about “I suppose so, ” said Mrs. Dursley stiffly. “What’s his name again? Howard, isn’t it?” “Harry. Nasty, common name, if you ask me. ” “Oh, yes, ” said Mr. Dursley, his heart sinking horribly. “Y es, I quite agree. ” He didn’t say another word on the subject as they went upstairs to bed. While Mrs. Dursley was in the bathroom, Mr. Dursley crept to the bedroom window and peered down into the front garden. The cat was still there. It was staring down Privet Drive as though it were waiting for something. Was he imagining things? Could all this have anything to do with the Potters? If it did . . . if it got out that they were related to a pair of — well, he didn’t think he could bear it. The Dursleys got into bed. Mrs. Dursley fell asleep quickly but Mr. Dursley lay awake, turning it all over in his mind. His last, comforting thought before he fell asleep was that even if the Potters were involved, there was no reason for them to come near him and Mrs. Dursley. The Potters knew very well what he and Petunia thought about them and their kind. . . . He couldn’t see how he and Petunia could get mixed up in anything that might be going on — he yawned and turned over — it couldn’t affect them. . . . How very wrong he was. Mr. Dursley might have been drifting into an uneasy sleep, but the cat on the wall outside was showing no sign of sleepiness. It was sitting as still as a statue, its eyes fixed unblinkingly on the far corner of Privet Drive. It didn’t so much as quiver when a car door slammed on the next street, nor when two owls swooped overhead. In fact, it was nearly midnight before the cat moved at all. A man appeared on the corner the cat had been watching, appeared so suddenly and silently you’d have thought he’d just popped out of the ground. The cat’s tail twitched and its eyes narrowed. Nothing like this man had ever been seen on Privet Drive. He was tall, thin, and very old, judging by the silver of his hair and beard, which were both long enough to tuck into his belt. He was wearing long robes, a purple cloak that swept the ground, and high-heeled, buckled boots. His blue eyes were light, bright, and sparkling behind half-moon spectacles and his nose was very long and crooked, as though it had been broken at least twice. This man’s name was Albus Dumbledore. Albus Dumbledore didn’t seem to realize that he had just arrived in a street where everything from his name to his boots was unwelcome. He was busy rummaging in his cloak, looking for something. But he did seem to realize he was being watched, because he looked up suddenly at the cat, which was still staring at him from the other end of the street. For some reason, the sight of the cat seemed to amuse him. He chuckled and muttered, “I should have known. ” He found what he was looking for in his inside pocket. It seemed to be a silver cigarette lighter. He flicked it open, held it up in the air, and clicked it. The nearest street lamp went out with a little pop. He clicked it again — the next lamp flickered into darkness. Twelve times he clicked the Put-Outer, until the only lights left on the whole street were two tiny pinpricks in the distance, which were the eyes of the cat watching him. If anyone looked out of their window now, even beady-eyed Mrs. Dursley, they wouldn’t be able to see anything that was happening down on the pavement. Dumbledore slipped the Put-Outer back inside his cloak and set off down the street toward number four, where he sat down on the wall next to the cat. He didn’t look at it, but after a moment he spoke to it. “Fancy seeing you here, Professor McGonagall. ” He turned to smile at the tabby, but it had gone. Instead he was smiling at a rather severe-looking woman who was wearing square glasses exactly the shape of the markings the cat had had around its eyes. She, too, was wearing a cloak, an emerald one. Her black hair was drawn into a tight bun. She looked distinctly ruffled. “How did you know it was me?” she asked.  What is the supermodels name? Output only the name and nothing else. Just the name.'}]"
      ]
     },
     "execution_count": 4,
     "metadata": {},
     "output_type": "execute_result"
    }
   ],
   "source": [
    "data = load_prompts_jsonl(\"../prompts/prompts.jsonl\")\n",
    "data"
   ]
  },
  {
   "cell_type": "code",
   "execution_count": 5,
   "id": "3d545b53",
   "metadata": {},
   "outputs": [
    {
     "name": "stdout",
     "output_type": "stream",
     "text": [
      "Prompt 1\n",
      "Prompt 2\n",
      "Prompt 3\n"
     ]
    }
   ],
   "source": [
    "for i, prompt in enumerate(data):\n",
    "    print(f\"Prompt {i + 1}\")\n",
    "    prompt_results = model.invoke_model(prompt[\"prompt\"])\n",
    "    data[i][\"results\"] = prompt_results"
   ]
  },
  {
   "cell_type": "code",
   "execution_count": 6,
   "id": "a44caa41",
   "metadata": {},
   "outputs": [
    {
     "name": "stdout",
     "output_type": "stream",
     "text": [
      "0\n",
      "1\n",
      "2\n"
     ]
    }
   ],
   "source": [
    "for i, prompt in enumerate(data):\n",
    "    print(i)\n",
    "    data[i][\"generated_tokens\"] = model.get_model_output(data[i][\"results\"])"
   ]
  },
  {
   "cell_type": "code",
   "execution_count": null,
   "id": "eec4003f",
   "metadata": {},
   "outputs": [],
   "source": []
  }
 ],
 "metadata": {
  "kernelspec": {
   "display_name": ".venv (3.12.3)",
   "language": "python",
   "name": "python3"
  },
  "language_info": {
   "codemirror_mode": {
    "name": "ipython",
    "version": 3
   },
   "file_extension": ".py",
   "mimetype": "text/x-python",
   "name": "python",
   "nbconvert_exporter": "python",
   "pygments_lexer": "ipython3",
   "version": "3.12.3"
  }
 },
 "nbformat": 4,
 "nbformat_minor": 5
}
